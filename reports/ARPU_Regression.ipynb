{
  "nbformat": 4,
  "nbformat_minor": 0,
  "metadata": {
    "colab": {
      "provenance": [],
      "collapsed_sections": []
    },
    "kernelspec": {
      "name": "python3",
      "display_name": "Python 3"
    },
    "language_info": {
      "name": "python"
    }
  },
  "cells": [
    {
      "cell_type": "markdown",
      "source": [
        "## Task Title: ARPU Regression\n",
        "####Practice to creat effective regression equation/model to estimate Day 28 ARPU\n",
        "\n"
      ],
      "metadata": {
        "id": "IIJ-b0Er-FJB"
      }
    },
    {
      "cell_type": "code",
      "execution_count": null,
      "metadata": {
        "id": "PEOWVhE39_6C"
      },
      "outputs": [],
      "source": [
        "#Importing libraries to use through analytical steps\n",
        "import pandas as pd\n",
        "import numpy as np\n",
        "import statsmodels.api as sm\n",
        "import statsmodels.formula.api as smf\n",
        "from itertools import chain\n",
        "from sklearn.linear_model import LinearRegression\n",
        "import matplotlib.pyplot as plt  # To visualize\n",
        "from sklearn.metrics import mean_squared_error, r2_score"
      ]
    },
    {
      "cell_type": "markdown",
      "source": [
        "### Step 1. Reading the dataset as well as cleaning if needed.\n"
      ],
      "metadata": {
        "id": "5NXup37aEsTm"
      }
    },
    {
      "cell_type": "code",
      "source": [
        "df = pd.read_csv(\"BI_Lead.csv\", header=0)\n",
        "df.describe()"
      ],
      "metadata": {
        "colab": {
          "base_uri": "https://localhost:8080/",
          "height": 362
        },
        "id": "Lvt_LYwbEu6K",
        "outputId": "ed662f8a-7577-45c1-938f-537524c72008"
      },
      "execution_count": null,
      "outputs": [
        {
          "output_type": "execute_result",
          "data": {
            "text/plain": [
              "       Cohort size  ARPU Day 0 in $  ARPU Day 1 in $  ARPU Day 2 in $  \\\n",
              "count    16.000000        16.000000        16.000000        16.000000   \n",
              "mean   1202.687500         0.282412         0.315744         0.335831   \n",
              "std     610.013412         0.028828         0.031983         0.033984   \n",
              "min     408.000000         0.234200         0.262700         0.277100   \n",
              "25%     778.750000         0.267900         0.296125         0.315425   \n",
              "50%    1097.500000         0.283700         0.317600         0.340800   \n",
              "75%    1472.250000         0.294825         0.333850         0.355350   \n",
              "max    2490.000000         0.344000         0.380300         0.402500   \n",
              "\n",
              "       ARPU Day 3 in $  ARPU Day 4 in $  ARPU Day 5 in $  ARPU Day 6 in $  \\\n",
              "count        16.000000        16.000000        16.000000        16.000000   \n",
              "mean          0.349806         0.361063         0.369712         0.377694   \n",
              "std           0.034611         0.035592         0.036619         0.037080   \n",
              "min           0.286900         0.296600         0.305900         0.317700   \n",
              "25%           0.330025         0.341025         0.348550         0.355650   \n",
              "50%           0.353750         0.366050         0.373300         0.379850   \n",
              "75%           0.371825         0.382425         0.391275         0.400075   \n",
              "max           0.413100         0.421900         0.432600         0.445800   \n",
              "\n",
              "       ARPU Day 7 in $  ARPU Day 14 in $  \n",
              "count        16.000000         16.000000  \n",
              "mean          0.383569          0.411275  \n",
              "std           0.037282          0.037652  \n",
              "min           0.322600          0.349700  \n",
              "25%           0.360800          0.388650  \n",
              "50%           0.385100          0.410650  \n",
              "75%           0.404425          0.434450  \n",
              "max           0.454300          0.484200  "
            ],
            "text/html": [
              "\n",
              "  <div id=\"df-1a39178e-1b61-445c-b8bc-9e9eb3f619f0\">\n",
              "    <div class=\"colab-df-container\">\n",
              "      <div>\n",
              "<style scoped>\n",
              "    .dataframe tbody tr th:only-of-type {\n",
              "        vertical-align: middle;\n",
              "    }\n",
              "\n",
              "    .dataframe tbody tr th {\n",
              "        vertical-align: top;\n",
              "    }\n",
              "\n",
              "    .dataframe thead th {\n",
              "        text-align: right;\n",
              "    }\n",
              "</style>\n",
              "<table border=\"1\" class=\"dataframe\">\n",
              "  <thead>\n",
              "    <tr style=\"text-align: right;\">\n",
              "      <th></th>\n",
              "      <th>Cohort size</th>\n",
              "      <th>ARPU Day 0 in $</th>\n",
              "      <th>ARPU Day 1 in $</th>\n",
              "      <th>ARPU Day 2 in $</th>\n",
              "      <th>ARPU Day 3 in $</th>\n",
              "      <th>ARPU Day 4 in $</th>\n",
              "      <th>ARPU Day 5 in $</th>\n",
              "      <th>ARPU Day 6 in $</th>\n",
              "      <th>ARPU Day 7 in $</th>\n",
              "      <th>ARPU Day 14 in $</th>\n",
              "    </tr>\n",
              "  </thead>\n",
              "  <tbody>\n",
              "    <tr>\n",
              "      <th>count</th>\n",
              "      <td>16.000000</td>\n",
              "      <td>16.000000</td>\n",
              "      <td>16.000000</td>\n",
              "      <td>16.000000</td>\n",
              "      <td>16.000000</td>\n",
              "      <td>16.000000</td>\n",
              "      <td>16.000000</td>\n",
              "      <td>16.000000</td>\n",
              "      <td>16.000000</td>\n",
              "      <td>16.000000</td>\n",
              "    </tr>\n",
              "    <tr>\n",
              "      <th>mean</th>\n",
              "      <td>1202.687500</td>\n",
              "      <td>0.282412</td>\n",
              "      <td>0.315744</td>\n",
              "      <td>0.335831</td>\n",
              "      <td>0.349806</td>\n",
              "      <td>0.361063</td>\n",
              "      <td>0.369712</td>\n",
              "      <td>0.377694</td>\n",
              "      <td>0.383569</td>\n",
              "      <td>0.411275</td>\n",
              "    </tr>\n",
              "    <tr>\n",
              "      <th>std</th>\n",
              "      <td>610.013412</td>\n",
              "      <td>0.028828</td>\n",
              "      <td>0.031983</td>\n",
              "      <td>0.033984</td>\n",
              "      <td>0.034611</td>\n",
              "      <td>0.035592</td>\n",
              "      <td>0.036619</td>\n",
              "      <td>0.037080</td>\n",
              "      <td>0.037282</td>\n",
              "      <td>0.037652</td>\n",
              "    </tr>\n",
              "    <tr>\n",
              "      <th>min</th>\n",
              "      <td>408.000000</td>\n",
              "      <td>0.234200</td>\n",
              "      <td>0.262700</td>\n",
              "      <td>0.277100</td>\n",
              "      <td>0.286900</td>\n",
              "      <td>0.296600</td>\n",
              "      <td>0.305900</td>\n",
              "      <td>0.317700</td>\n",
              "      <td>0.322600</td>\n",
              "      <td>0.349700</td>\n",
              "    </tr>\n",
              "    <tr>\n",
              "      <th>25%</th>\n",
              "      <td>778.750000</td>\n",
              "      <td>0.267900</td>\n",
              "      <td>0.296125</td>\n",
              "      <td>0.315425</td>\n",
              "      <td>0.330025</td>\n",
              "      <td>0.341025</td>\n",
              "      <td>0.348550</td>\n",
              "      <td>0.355650</td>\n",
              "      <td>0.360800</td>\n",
              "      <td>0.388650</td>\n",
              "    </tr>\n",
              "    <tr>\n",
              "      <th>50%</th>\n",
              "      <td>1097.500000</td>\n",
              "      <td>0.283700</td>\n",
              "      <td>0.317600</td>\n",
              "      <td>0.340800</td>\n",
              "      <td>0.353750</td>\n",
              "      <td>0.366050</td>\n",
              "      <td>0.373300</td>\n",
              "      <td>0.379850</td>\n",
              "      <td>0.385100</td>\n",
              "      <td>0.410650</td>\n",
              "    </tr>\n",
              "    <tr>\n",
              "      <th>75%</th>\n",
              "      <td>1472.250000</td>\n",
              "      <td>0.294825</td>\n",
              "      <td>0.333850</td>\n",
              "      <td>0.355350</td>\n",
              "      <td>0.371825</td>\n",
              "      <td>0.382425</td>\n",
              "      <td>0.391275</td>\n",
              "      <td>0.400075</td>\n",
              "      <td>0.404425</td>\n",
              "      <td>0.434450</td>\n",
              "    </tr>\n",
              "    <tr>\n",
              "      <th>max</th>\n",
              "      <td>2490.000000</td>\n",
              "      <td>0.344000</td>\n",
              "      <td>0.380300</td>\n",
              "      <td>0.402500</td>\n",
              "      <td>0.413100</td>\n",
              "      <td>0.421900</td>\n",
              "      <td>0.432600</td>\n",
              "      <td>0.445800</td>\n",
              "      <td>0.454300</td>\n",
              "      <td>0.484200</td>\n",
              "    </tr>\n",
              "  </tbody>\n",
              "</table>\n",
              "</div>\n",
              "      <button class=\"colab-df-convert\" onclick=\"convertToInteractive('df-1a39178e-1b61-445c-b8bc-9e9eb3f619f0')\"\n",
              "              title=\"Convert this dataframe to an interactive table.\"\n",
              "              style=\"display:none;\">\n",
              "        \n",
              "  <svg xmlns=\"http://www.w3.org/2000/svg\" height=\"24px\"viewBox=\"0 0 24 24\"\n",
              "       width=\"24px\">\n",
              "    <path d=\"M0 0h24v24H0V0z\" fill=\"none\"/>\n",
              "    <path d=\"M18.56 5.44l.94 2.06.94-2.06 2.06-.94-2.06-.94-.94-2.06-.94 2.06-2.06.94zm-11 1L8.5 8.5l.94-2.06 2.06-.94-2.06-.94L8.5 2.5l-.94 2.06-2.06.94zm10 10l.94 2.06.94-2.06 2.06-.94-2.06-.94-.94-2.06-.94 2.06-2.06.94z\"/><path d=\"M17.41 7.96l-1.37-1.37c-.4-.4-.92-.59-1.43-.59-.52 0-1.04.2-1.43.59L10.3 9.45l-7.72 7.72c-.78.78-.78 2.05 0 2.83L4 21.41c.39.39.9.59 1.41.59.51 0 1.02-.2 1.41-.59l7.78-7.78 2.81-2.81c.8-.78.8-2.07 0-2.86zM5.41 20L4 18.59l7.72-7.72 1.47 1.35L5.41 20z\"/>\n",
              "  </svg>\n",
              "      </button>\n",
              "      \n",
              "  <style>\n",
              "    .colab-df-container {\n",
              "      display:flex;\n",
              "      flex-wrap:wrap;\n",
              "      gap: 12px;\n",
              "    }\n",
              "\n",
              "    .colab-df-convert {\n",
              "      background-color: #E8F0FE;\n",
              "      border: none;\n",
              "      border-radius: 50%;\n",
              "      cursor: pointer;\n",
              "      display: none;\n",
              "      fill: #1967D2;\n",
              "      height: 32px;\n",
              "      padding: 0 0 0 0;\n",
              "      width: 32px;\n",
              "    }\n",
              "\n",
              "    .colab-df-convert:hover {\n",
              "      background-color: #E2EBFA;\n",
              "      box-shadow: 0px 1px 2px rgba(60, 64, 67, 0.3), 0px 1px 3px 1px rgba(60, 64, 67, 0.15);\n",
              "      fill: #174EA6;\n",
              "    }\n",
              "\n",
              "    [theme=dark] .colab-df-convert {\n",
              "      background-color: #3B4455;\n",
              "      fill: #D2E3FC;\n",
              "    }\n",
              "\n",
              "    [theme=dark] .colab-df-convert:hover {\n",
              "      background-color: #434B5C;\n",
              "      box-shadow: 0px 1px 3px 1px rgba(0, 0, 0, 0.15);\n",
              "      filter: drop-shadow(0px 1px 2px rgba(0, 0, 0, 0.3));\n",
              "      fill: #FFFFFF;\n",
              "    }\n",
              "  </style>\n",
              "\n",
              "      <script>\n",
              "        const buttonEl =\n",
              "          document.querySelector('#df-1a39178e-1b61-445c-b8bc-9e9eb3f619f0 button.colab-df-convert');\n",
              "        buttonEl.style.display =\n",
              "          google.colab.kernel.accessAllowed ? 'block' : 'none';\n",
              "\n",
              "        async function convertToInteractive(key) {\n",
              "          const element = document.querySelector('#df-1a39178e-1b61-445c-b8bc-9e9eb3f619f0');\n",
              "          const dataTable =\n",
              "            await google.colab.kernel.invokeFunction('convertToInteractive',\n",
              "                                                     [key], {});\n",
              "          if (!dataTable) return;\n",
              "\n",
              "          const docLinkHtml = 'Like what you see? Visit the ' +\n",
              "            '<a target=\"_blank\" href=https://colab.research.google.com/notebooks/data_table.ipynb>data table notebook</a>'\n",
              "            + ' to learn more about interactive tables.';\n",
              "          element.innerHTML = '';\n",
              "          dataTable['output_type'] = 'display_data';\n",
              "          await google.colab.output.renderOutput(dataTable, element);\n",
              "          const docLink = document.createElement('div');\n",
              "          docLink.innerHTML = docLinkHtml;\n",
              "          element.appendChild(docLink);\n",
              "        }\n",
              "      </script>\n",
              "    </div>\n",
              "  </div>\n",
              "  "
            ]
          },
          "metadata": {},
          "execution_count": 4
        }
      ]
    },
    {
      "cell_type": "markdown",
      "source": [
        "### Descriptive Insights\n",
        "from day 0 to day 14;\n",
        "- average daily arpu of 1202 users has been increased from 0.28 to 0.41 ~ +46%\n",
        "- \n",
        "- "
      ],
      "metadata": {
        "id": "pyPCZrRQFV21"
      }
    },
    {
      "cell_type": "code",
      "source": [
        "df1 = df.loc[:, 'ARPU Day 0 in $':].multiply(df['Cohort size'], axis=\"index\")\n",
        "df1.columns = ['D{} revenue'.format(x) for x in chain(range(8), range(14,15))]\n",
        "df1['Total_rev'] = df1.sum(axis=1)\n",
        "#df1.rename({'D8' : 'LTV Day 14'})\n",
        "df1 = df.join(df1)\n",
        "df1.to_csv('BI_Lead_1.csv')"
      ],
      "metadata": {
        "id": "D_jfVHqGFeBo"
      },
      "execution_count": null,
      "outputs": []
    },
    {
      "cell_type": "markdown",
      "source": [
        "### Toward Modelling\n",
        "\n",
        "Calculating Regression Equation: \n",
        "\n",
        "$Y = α + \\beta0*x0 + \\beta1*x1+ \\beta2*x2+ \\beta3*x3+ \\beta4*x4+ b\\beta5*x5+ + \\beta6*x6+ \\beta7*x7$\n",
        "\n",
        "*NOTE*: Where $Y$ is APRU Day 14 and $xi$: APRU Day 0 to Day 7 "
      ],
      "metadata": {
        "id": "ApTK_fsPGu9T"
      }
    },
    {
      "cell_type": "code",
      "source": [
        "X_train = df.iloc[1:8, 2:-1].values  # values converts it into a numpy array\n",
        "Y_train = df.iloc[1:8, -1].values \n",
        "X_test = df.iloc[8:, 2:-1].values \n",
        "Y_test = df.iloc[8:, -1].values \n",
        "linear_regressor = LinearRegression()  # create object for the class\n",
        "model= linear_regressor.fit(X_train, Y_train)  # perform linear regression\n",
        "Y_pred = linear_regressor.predict(X_test)  # make predictions"
      ],
      "metadata": {
        "id": "W1u_Tfd4G9p8"
      },
      "execution_count": null,
      "outputs": []
    },
    {
      "cell_type": "code",
      "source": [
        "# The coefficients\n",
        "print(\"Coefficients: \\n\", model.coef_)\n",
        "print(\"interception: \\n\", model.intercept_)\n",
        "\n",
        "# The mean squared error\n",
        "print(\"Mean squared error: %.2f\" % mean_squared_error(Y_test, Y_pred))\n",
        "# The coefficient of determination: 1 is perfect prediction\n",
        "print(\"Coefficient of determination: %.2f\" % r2_score(Y_test, Y_pred))"
      ],
      "metadata": {
        "id": "f_T8qdfXHjy6",
        "outputId": "377da256-0e2e-4ad8-b50a-f817a181a8b2",
        "colab": {
          "base_uri": "https://localhost:8080/"
        }
      },
      "execution_count": null,
      "outputs": [
        {
          "output_type": "stream",
          "name": "stdout",
          "text": [
            "Coefficients: \n",
            " [ 0.76833793 -1.36971937  0.16166697 -2.36327349  2.35027178 -0.31780279\n",
            " -1.42864605  3.24704901]\n",
            "interception: \n",
            " -0.03375947366183224\n",
            "Mean squared error: 0.00\n",
            "Coefficient of determination: 0.77\n"
          ]
        }
      ]
    },
    {
      "cell_type": "markdown",
      "source": [
        "## ok, cool, this is the equation, let's do something else.\n"
      ],
      "metadata": {
        "id": "UUngWwJOGNDz"
      }
    },
    {
      "cell_type": "code",
      "source": [],
      "metadata": {
        "id": "S340U850GSs6"
      },
      "execution_count": null,
      "outputs": []
    }
  ]
}